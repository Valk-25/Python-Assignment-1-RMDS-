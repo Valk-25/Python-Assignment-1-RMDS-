{
  "nbformat": 4,
  "nbformat_minor": 0,
  "metadata": {
    "colab": {
      "provenance": [],
      "authorship_tag": "ABX9TyNSyfphXJYJKVEGJEinKIlT",
      "include_colab_link": true
    },
    "kernelspec": {
      "name": "python3",
      "display_name": "Python 3"
    },
    "language_info": {
      "name": "python"
    }
  },
  "cells": [
    {
      "cell_type": "markdown",
      "metadata": {
        "id": "view-in-github",
        "colab_type": "text"
      },
      "source": [
        "<a href=\"https://colab.research.google.com/github/Valk-25/Python-Assignment-1-RMDS-/blob/main/Assignement1.ipynb\" target=\"_parent\"><img src=\"https://colab.research.google.com/assets/colab-badge.svg\" alt=\"Open In Colab\"/></a>"
      ]
    },
    {
      "cell_type": "code",
      "execution_count": null,
      "metadata": {
        "id": "PlvpJCiwSMGe",
        "colab": {
          "base_uri": "https://localhost:8080/"
        },
        "outputId": "9737d17a-e683-4932-d907-cc86878a78ea"
      },
      "outputs": [
        {
          "output_type": "stream",
          "name": "stdout",
          "text": [
            "[11, 12, 13, 14, 50, 60]\n"
          ]
        }
      ],
      "source": [
        "\"\"\"Q1. L is a list defined as L= [11, 12, 13, 14].\n",
        "(i) WAP to add 50 and 60 to L.\"\"\"\n",
        "L= [11, 12, 13, 14]\n",
        "L.append(50)\n",
        "L.append(60)\n",
        "print(L)\n"
      ]
    },
    {
      "cell_type": "markdown",
      "source": [
        "(ii) WAP to remove 11 and 13from L"
      ],
      "metadata": {
        "id": "hYUOZjevn98Z"
      }
    },
    {
      "cell_type": "code",
      "source": [
        "L=[11, 12, 13, 14]\n",
        "del L[0]\n",
        "del L[1]\n",
        "print(L)\n"
      ],
      "metadata": {
        "colab": {
          "base_uri": "https://localhost:8080/"
        },
        "id": "oTnmgvcUnvkt",
        "outputId": "7cfdda0d-9565-4187-8f07-a5f97350762d"
      },
      "execution_count": null,
      "outputs": [
        {
          "output_type": "stream",
          "name": "stdout",
          "text": [
            "[12, 14]\n"
          ]
        }
      ]
    },
    {
      "cell_type": "markdown",
      "source": [
        "(iii) WAP to sort L in ascending order."
      ],
      "metadata": {
        "id": "o1f1cYQlqx_o"
      }
    },
    {
      "cell_type": "code",
      "source": [
        "L=[11, 12, 13, 14]\n",
        "L.sort()\n",
        "print(L)"
      ],
      "metadata": {
        "colab": {
          "base_uri": "https://localhost:8080/"
        },
        "id": "AankpNDYqflm",
        "outputId": "82aabe54-86fa-4143-c010-e359a50d3519"
      },
      "execution_count": null,
      "outputs": [
        {
          "output_type": "stream",
          "name": "stdout",
          "text": [
            "[11, 12, 13, 14]\n"
          ]
        }
      ]
    },
    {
      "cell_type": "markdown",
      "source": [
        "(iv) WAP to sort L in descending order.\n"
      ],
      "metadata": {
        "id": "59-u97zQrQOK"
      }
    },
    {
      "cell_type": "code",
      "source": [
        "L=[11, 12, 13, 14]\n",
        "\n",
        "L.sort(reverse=True)\n",
        "print(L)"
      ],
      "metadata": {
        "colab": {
          "base_uri": "https://localhost:8080/"
        },
        "id": "szPelbuCq_xB",
        "outputId": "851d70b7-eadf-47fa-f3f7-67927d318521"
      },
      "execution_count": null,
      "outputs": [
        {
          "output_type": "stream",
          "name": "stdout",
          "text": [
            "[14, 13, 12, 11]\n"
          ]
        }
      ]
    },
    {
      "cell_type": "markdown",
      "source": [
        "(v) WAP to search for 13 in L.\n",
        "("
      ],
      "metadata": {
        "id": "IWXUPfsUryDB"
      }
    },
    {
      "cell_type": "code",
      "source": [
        "print(\" 13 is present in the list-->\",13 in L)\n"
      ],
      "metadata": {
        "colab": {
          "base_uri": "https://localhost:8080/"
        },
        "id": "xZQPUaf_rbjJ",
        "outputId": "60461e3e-883d-4e37-d1d1-b5ff23655409"
      },
      "execution_count": null,
      "outputs": [
        {
          "output_type": "stream",
          "name": "stdout",
          "text": [
            " 13 is present in the list--> True\n"
          ]
        }
      ]
    },
    {
      "cell_type": "markdown",
      "source": [
        "vi) WAP to count the number of elements present in L.\n",
        "\n",
        "\n",
        "---\n",
        "\n"
      ],
      "metadata": {
        "id": "bLtTW3Dxr0db"
      }
    },
    {
      "cell_type": "code",
      "source": [
        "print(len(L))"
      ],
      "metadata": {
        "colab": {
          "base_uri": "https://localhost:8080/"
        },
        "id": "ZChizDWmsvvc",
        "outputId": "85693f7f-095e-487f-a31a-c3f4f843e47d"
      },
      "execution_count": null,
      "outputs": [
        {
          "output_type": "stream",
          "name": "stdout",
          "text": [
            "4\n"
          ]
        }
      ]
    },
    {
      "cell_type": "markdown",
      "source": [
        "(vii) WAP to sum all the elements in L.\n"
      ],
      "metadata": {
        "id": "SRHPJuzqswjI"
      }
    },
    {
      "cell_type": "code",
      "source": [
        "sum=10\n",
        "del sum\n",
        "L=[11, 12, 13, 14]\n",
        "print(sum(L))"
      ],
      "metadata": {
        "colab": {
          "base_uri": "https://localhost:8080/"
        },
        "id": "OAwJrcf9tAjK",
        "outputId": "1dd1a735-a4c2-45c8-9235-02c5c43018e9"
      },
      "execution_count": null,
      "outputs": [
        {
          "output_type": "stream",
          "name": "stdout",
          "text": [
            "50\n"
          ]
        }
      ]
    },
    {
      "cell_type": "markdown",
      "source": [
        "(viii) WAP to sum all ODD numbers in L.\n"
      ],
      "metadata": {
        "id": "TzRwI7yytBAe"
      }
    },
    {
      "cell_type": "code",
      "source": [
        "\n",
        "L=[11, 12, 13, 14]\n",
        "s=0\n",
        "for i in range(4):\n",
        "  if (L[i]%2!=0):\n",
        "    s=s+L[i]\n",
        "print(s)"
      ],
      "metadata": {
        "colab": {
          "base_uri": "https://localhost:8080/"
        },
        "id": "zg82T4C6tJVd",
        "outputId": "7c69316d-66eb-474f-814c-941eb5b01476"
      },
      "execution_count": null,
      "outputs": [
        {
          "output_type": "stream",
          "name": "stdout",
          "text": [
            "24\n"
          ]
        }
      ]
    },
    {
      "cell_type": "markdown",
      "source": [
        "(ix) WAP to sum all EVEN numbers in L.\n"
      ],
      "metadata": {
        "id": "yIS00919tJv7"
      }
    },
    {
      "cell_type": "code",
      "source": [
        "s=0\n",
        "for i in range(4):\n",
        "  if (L[i]%2==0):\n",
        "    s=s+L[i]\n",
        "print(s)"
      ],
      "metadata": {
        "colab": {
          "base_uri": "https://localhost:8080/"
        },
        "id": "w13RoJIuutST",
        "outputId": "9a91850c-91b8-4492-dec4-6dc2c24d1ed0"
      },
      "execution_count": null,
      "outputs": [
        {
          "output_type": "stream",
          "name": "stdout",
          "text": [
            "26\n"
          ]
        }
      ]
    },
    {
      "cell_type": "markdown",
      "source": [
        "(x) WAP to sum all PRIME numbers in L.\n"
      ],
      "metadata": {
        "id": "c2rHRuEfutwr"
      }
    },
    {
      "cell_type": "code",
      "source": [
        "def IsPrime(n):\n",
        "\tfor i in range(2, n//2 + 1):\n",
        "\t\tif n%i==0:\n",
        "\t\t\treturn 0\n",
        "\treturn 1\n",
        "s=0\n",
        "for i in range(4):\n",
        "  if (IsPrime(L[i])==1):\n",
        "    s=s+L[i]\n",
        "print(s)\n"
      ],
      "metadata": {
        "colab": {
          "base_uri": "https://localhost:8080/"
        },
        "id": "q6PlYL7tvA3b",
        "outputId": "50960ebb-603f-4f14-cb8a-013c406ae73f"
      },
      "execution_count": null,
      "outputs": [
        {
          "output_type": "stream",
          "name": "stdout",
          "text": [
            "24\n"
          ]
        }
      ]
    },
    {
      "cell_type": "markdown",
      "source": [
        "(xi) WAP to clear all the elements in L.\n"
      ],
      "metadata": {
        "id": "wR4wRSFsvBR-"
      }
    },
    {
      "cell_type": "code",
      "source": [
        "L.clear()\n",
        "print(L)"
      ],
      "metadata": {
        "colab": {
          "base_uri": "https://localhost:8080/"
        },
        "id": "vyxzuSJjwEy2",
        "outputId": "7137f2b4-9276-49fd-d40e-8e4dccec370d"
      },
      "execution_count": null,
      "outputs": [
        {
          "output_type": "stream",
          "name": "stdout",
          "text": [
            "[]\n"
          ]
        }
      ]
    },
    {
      "cell_type": "markdown",
      "source": [
        "(xii) WAP to delete L"
      ],
      "metadata": {
        "id": "FdTMNZIRwIno"
      }
    },
    {
      "cell_type": "code",
      "source": [
        "L=[11, 12, 13, 14]\n",
        "del L"
      ],
      "metadata": {
        "id": "NBZJuzbSxPoD"
      },
      "execution_count": null,
      "outputs": []
    },
    {
      "cell_type": "markdown",
      "source": [
        "Q2. D is a dictionary defined as D= {1:5.6, 2:7.8, 3:6.6, 4:8.7, 5:7.7}.\n",
        "\n",
        "(i) WAP to add new entry in D; key=8 and value is 8.8\n",
        "\n",
        "(ii) WAP to remove key=2.\n",
        "\n",
        "(iii) WAP to check weather 6 key is present in D.\n",
        "\n",
        "(iv) WAP to count the number of elements present in D.\n",
        "\n",
        "(v) WAP to add all the values present D.\n",
        "\n",
        "(vi) WAP to update the value of 3 to 7.1.\n",
        "\n",
        "(vii) WAP to clear the dictionary."
      ],
      "metadata": {
        "id": "K8QLQg8R-Ghi"
      }
    },
    {
      "cell_type": "markdown",
      "source": [
        "WAP to add new entry in D; key=8 and value is 8.8"
      ],
      "metadata": {
        "id": "ImKU7K_u-Je1"
      }
    },
    {
      "cell_type": "code",
      "source": [
        "D= {1:5.6, 2:7.8, 3:6.6, 4:8.7, 5:7.7}\n",
        "D[8]=8.8\n",
        "print(D)"
      ],
      "metadata": {
        "colab": {
          "base_uri": "https://localhost:8080/"
        },
        "id": "O0t7DwK7-cQH",
        "outputId": "7283627a-8ec6-4c88-aa3c-0ce0e54ec54a"
      },
      "execution_count": null,
      "outputs": [
        {
          "output_type": "stream",
          "name": "stdout",
          "text": [
            "{1: 5.6, 2: 7.8, 3: 6.6, 4: 8.7, 5: 7.7, 8: 8.8}\n"
          ]
        }
      ]
    },
    {
      "cell_type": "code",
      "source": [
        "del D[2]\n",
        "print(D)"
      ],
      "metadata": {
        "colab": {
          "base_uri": "https://localhost:8080/"
        },
        "id": "YaqgMGFB_Ffw",
        "outputId": "0c739b22-c584-4d90-f8c6-4c2075fdea47"
      },
      "execution_count": null,
      "outputs": [
        {
          "output_type": "stream",
          "name": "stdout",
          "text": [
            "{1: 5.6, 3: 6.6, 4: 8.7, 5: 7.7, 8: 8.8}\n"
          ]
        }
      ]
    },
    {
      "cell_type": "code",
      "source": [
        "print(\"6 key is present in D-->\",6 in D)"
      ],
      "metadata": {
        "colab": {
          "base_uri": "https://localhost:8080/"
        },
        "id": "-0T0L0Sd_Krn",
        "outputId": "c89e10d9-d82c-409b-8d19-dfbf64aa6694"
      },
      "execution_count": null,
      "outputs": [
        {
          "output_type": "stream",
          "name": "stdout",
          "text": [
            "6 key is present in D--> False\n"
          ]
        }
      ]
    },
    {
      "cell_type": "code",
      "source": [
        "print(len(D))"
      ],
      "metadata": {
        "colab": {
          "base_uri": "https://localhost:8080/"
        },
        "id": "8CBbrMAZ_cYF",
        "outputId": "a9d64026-760b-49b9-b05f-25a2fd216a4a"
      },
      "execution_count": null,
      "outputs": [
        {
          "output_type": "stream",
          "name": "stdout",
          "text": [
            "5\n"
          ]
        }
      ]
    },
    {
      "cell_type": "code",
      "source": [
        "L=list(D.values())\n",
        "print(sum(L))"
      ],
      "metadata": {
        "colab": {
          "base_uri": "https://localhost:8080/"
        },
        "id": "Ls8EfFCkAQ3c",
        "outputId": "65c0aed3-1393-4d40-cfdc-af5b9dc42bc5"
      },
      "execution_count": null,
      "outputs": [
        {
          "output_type": "stream",
          "name": "stdout",
          "text": [
            "37.4\n"
          ]
        }
      ]
    },
    {
      "cell_type": "code",
      "source": [
        "D[3]=7.1\n",
        "print(D)"
      ],
      "metadata": {
        "colab": {
          "base_uri": "https://localhost:8080/"
        },
        "id": "4KhuAw6GUOe9",
        "outputId": "ca881bbd-3d06-4637-92e1-566f59207933"
      },
      "execution_count": null,
      "outputs": [
        {
          "output_type": "stream",
          "name": "stdout",
          "text": [
            "{1: 5.6, 3: 7.1, 4: 8.7, 5: 7.7, 8: 8.8}\n"
          ]
        }
      ]
    },
    {
      "cell_type": "code",
      "source": [
        "D.clear()\n",
        "print(D)"
      ],
      "metadata": {
        "colab": {
          "base_uri": "https://localhost:8080/"
        },
        "id": "MMJRq53UUhBT",
        "outputId": "03fc2d1d-4890-47dd-e93b-cdb00783d35c"
      },
      "execution_count": null,
      "outputs": [
        {
          "output_type": "stream",
          "name": "stdout",
          "text": [
            "{}\n"
          ]
        }
      ]
    },
    {
      "cell_type": "markdown",
      "source": [
        "Q3. S1 is a set defined as S1= [10, 20, 30, 40, 50, 60].\n",
        "\n",
        " S2 is a set defined as S2= [40, 50, 60, 70, 80, 90].\n",
        "\n",
        "(i) WAP to add 55 and 66 in Set S1.\n",
        "\n",
        "(ii) WAP to remove 10 and 30 from Set S1.\n",
        "\n",
        "(iii) WAP to check whether 40 is present in S1.\n",
        "\n",
        "(iv) WAP to find the union between S1 and S2.\n",
        "\n",
        "(v) WAP to find the intersection between S1 and S2.\n",
        "\n",
        "(vi) WAP to find the S1 - S2"
      ],
      "metadata": {
        "id": "BfMS_HulU0mF"
      }
    },
    {
      "cell_type": "code",
      "source": [
        "S1=set([10, 20, 30, 40, 50, 60])\n",
        "S2=set( [40, 50, 60, 70, 80, 90])\n",
        "print(\"Set 1 is-->\",S1)\n",
        "print(\"Set 2 is-->\",S2)"
      ],
      "metadata": {
        "colab": {
          "base_uri": "https://localhost:8080/"
        },
        "id": "puywhzq8U--q",
        "outputId": "0675c6fc-e081-46c8-f8a3-3754f7427277"
      },
      "execution_count": null,
      "outputs": [
        {
          "output_type": "stream",
          "name": "stdout",
          "text": [
            "Set 1 is--> {40, 10, 50, 20, 60, 30}\n",
            "Set 2 is--> {70, 40, 80, 50, 90, 60}\n"
          ]
        }
      ]
    },
    {
      "cell_type": "code",
      "source": [
        "S1.add(55)\n",
        "S1.add(66)\n",
        "print(s1)"
      ],
      "metadata": {
        "colab": {
          "base_uri": "https://localhost:8080/"
        },
        "id": "rS6Ey9-MWmTX",
        "outputId": "8d6f84f3-f95f-4554-97c4-db09a46c3b87"
      },
      "execution_count": null,
      "outputs": [
        {
          "output_type": "stream",
          "name": "stdout",
          "text": [
            "{66, 40, 10, 50, 20, 55, 60, 30}\n"
          ]
        }
      ]
    },
    {
      "cell_type": "code",
      "source": [
        "S1.remove(10)\n",
        "S1.remove(30)\n",
        "print(S1)"
      ],
      "metadata": {
        "colab": {
          "base_uri": "https://localhost:8080/"
        },
        "id": "egtTTv-9W4yu",
        "outputId": "ae2f464c-e39b-448c-db65-b1723880faa8"
      },
      "execution_count": null,
      "outputs": [
        {
          "output_type": "stream",
          "name": "stdout",
          "text": [
            "{66, 40, 50, 20, 55, 60}\n"
          ]
        }
      ]
    },
    {
      "cell_type": "code",
      "source": [
        "print(40 in S1)"
      ],
      "metadata": {
        "colab": {
          "base_uri": "https://localhost:8080/"
        },
        "id": "q8MDSz_sW-xk",
        "outputId": "23643956-a135-4a91-9d69-18b49e78d97f"
      },
      "execution_count": null,
      "outputs": [
        {
          "output_type": "stream",
          "name": "stdout",
          "text": [
            "True\n"
          ]
        }
      ]
    },
    {
      "cell_type": "code",
      "source": [
        "print(S1.union(S2))"
      ],
      "metadata": {
        "colab": {
          "base_uri": "https://localhost:8080/"
        },
        "id": "FV1qCuBfXCD-",
        "outputId": "e88e2903-ab78-49b6-c043-24e48d35a94d"
      },
      "execution_count": null,
      "outputs": [
        {
          "output_type": "stream",
          "name": "stdout",
          "text": [
            "{66, 70, 40, 80, 50, 20, 55, 90, 60}\n"
          ]
        }
      ]
    },
    {
      "cell_type": "code",
      "source": [
        "print(S1.intersection(S2))"
      ],
      "metadata": {
        "colab": {
          "base_uri": "https://localhost:8080/"
        },
        "id": "fnEFZR4eXEpH",
        "outputId": "f8ca9d7b-355b-414f-a7fa-11e3e21ad2f2"
      },
      "execution_count": null,
      "outputs": [
        {
          "output_type": "stream",
          "name": "stdout",
          "text": [
            "{40, 50, 60}\n"
          ]
        }
      ]
    },
    {
      "cell_type": "code",
      "source": [
        "print(S1-S2)"
      ],
      "metadata": {
        "colab": {
          "base_uri": "https://localhost:8080/"
        },
        "id": "S_WPkv5pXHsD",
        "outputId": "938f9114-ec93-41b8-bb1b-d0ac7d5151d3"
      },
      "execution_count": null,
      "outputs": [
        {
          "output_type": "stream",
          "name": "stdout",
          "text": [
            "{66, 20, 55}\n"
          ]
        }
      ]
    },
    {
      "cell_type": "markdown",
      "source": [
        "Q4. Write the following program.\n",
        "\n",
        "(i) WAP to print 100 random strings whose length between 6 and 8.\n",
        "\n",
        "(ii) WAP to print all prime numbers between 600 and 800.\n",
        "\n",
        "(iii) WAP to print all numbers between 100 and 1000 that are divisible by 7 and 9."
      ],
      "metadata": {
        "id": "L8e6wNPTXZoK"
      }
    },
    {
      "cell_type": "code",
      "source": [
        "import random as r\n",
        "import string as s\n",
        "\n",
        "for i in range(100):\n",
        "  n=r.randint(6,8)\n",
        "  x= r.sample(s.ascii_letters,n)\n",
        "  print(\"\".join(x))\n",
        "\n"
      ],
      "metadata": {
        "colab": {
          "base_uri": "https://localhost:8080/"
        },
        "id": "Dt3LHi9DXg7s",
        "outputId": "aec335bb-77ae-40fd-c883-a0f54d34ba65"
      },
      "execution_count": null,
      "outputs": [
        {
          "output_type": "stream",
          "name": "stdout",
          "text": [
            "ZSwPQM\n",
            "dnBEHqiI\n",
            "iBeaERXk\n",
            "dLejUp\n",
            "igQPBt\n",
            "CcgQJiXB\n",
            "ZGMDfXg\n",
            "BRxMuFDY\n",
            "SqcCer\n",
            "TSqCMx\n",
            "iGoLbJ\n",
            "kqNnpZgQ\n",
            "UoEeHOc\n",
            "QTZOar\n",
            "KwOtmFSk\n",
            "vJjWINqO\n",
            "LUynIGiV\n",
            "MDodBk\n",
            "CVPskGNL\n",
            "CpuMZP\n",
            "tIbHlj\n",
            "HSbTUY\n",
            "VHbvfo\n",
            "ipOnvBtb\n",
            "MwbZrKPo\n",
            "ejRLKB\n",
            "vaOmjMp\n",
            "PvzfRXew\n",
            "dWLnNf\n",
            "AbLsFuV\n",
            "RHEePQlp\n",
            "NCZcpF\n",
            "fAEnQd\n",
            "FOfyCmUt\n",
            "ewRvZL\n",
            "yxFHueBp\n",
            "noBPpTF\n",
            "iOxmqvt\n",
            "JXAjsR\n",
            "vWJAUodj\n",
            "kPMhqLaN\n",
            "AvCIhT\n",
            "ANverJ\n",
            "hbVRLUr\n",
            "zUBOtNkG\n",
            "pYTnBkV\n",
            "UIsfliBH\n",
            "vuSRNJ\n",
            "MIWjEXV\n",
            "cRFzVv\n",
            "fyAYOUv\n",
            "MHNXUmED\n",
            "hFyeJtp\n",
            "gWVsFf\n",
            "rWYbZS\n",
            "YQNRKa\n",
            "VMwrJUxl\n",
            "ZwepoYj\n",
            "vNWwqDo\n",
            "TurHaF\n",
            "AfCqvE\n",
            "YnJeSpG\n",
            "iuMSpxU\n",
            "AWYKdE\n",
            "wbKRfX\n",
            "UtRzOBM\n",
            "pPfFSz\n",
            "LXrhUgb\n",
            "qdpCPWMl\n",
            "eJHQyEYx\n",
            "cpywKxG\n",
            "cWdxuQe\n",
            "qNmFzhAn\n",
            "qDCeIy\n",
            "XuOtEkyP\n",
            "Bfunoa\n",
            "iQsLdHVk\n",
            "QGwTojU\n",
            "XaxYDm\n",
            "SAiKNZj\n",
            "VzRMXsc\n",
            "DSpZYqJT\n",
            "PEwrjYI\n",
            "KRzpBJME\n",
            "wBFzoeEO\n",
            "VHbwTMlI\n",
            "WRhgzE\n",
            "WksGNgp\n",
            "lrLyYDd\n",
            "HhwdCzDO\n",
            "hfneRTE\n",
            "MVXKdFkG\n",
            "nCIOuQUe\n",
            "eOYNRvUG\n",
            "ilprfNM\n",
            "ZAJTEfIS\n",
            "dartKpE\n",
            "BoyRSY\n",
            "IFsWrz\n",
            "uEjsAXt\n"
          ]
        }
      ]
    },
    {
      "cell_type": "code",
      "source": [
        "\n",
        "def IsPrime(n):\n",
        "\tfor i in range(2, n//2 + 1):\n",
        "\t\tif n%i==0:\n",
        "\t\t\treturn 0\n",
        "\treturn 1\n",
        "\n",
        "for i in range(600,801):\n",
        "  if(IsPrime(i)==1):\n",
        "    print(i)"
      ],
      "metadata": {
        "colab": {
          "base_uri": "https://localhost:8080/"
        },
        "id": "XkpdRCOpfB4f",
        "outputId": "307288f9-8a88-4934-f117-2dc847475338"
      },
      "execution_count": null,
      "outputs": [
        {
          "output_type": "stream",
          "name": "stdout",
          "text": [
            "601\n",
            "607\n",
            "613\n",
            "617\n",
            "619\n",
            "631\n",
            "641\n",
            "643\n",
            "647\n",
            "653\n",
            "659\n",
            "661\n",
            "673\n",
            "677\n",
            "683\n",
            "691\n",
            "701\n",
            "709\n",
            "719\n",
            "727\n",
            "733\n",
            "739\n",
            "743\n",
            "751\n",
            "757\n",
            "761\n",
            "769\n",
            "773\n",
            "787\n",
            "797\n"
          ]
        }
      ]
    },
    {
      "cell_type": "code",
      "source": [
        "\"\"\"B/w 100 and 1000 and divisible by 7 & 9\"\"\"\n",
        "for i in range (100,1001):\n",
        "  if(i%7==0 and i%9==0):\n",
        "    print(i)"
      ],
      "metadata": {
        "colab": {
          "base_uri": "https://localhost:8080/"
        },
        "id": "-0VAuEKbfjdi",
        "outputId": "ed36bd5e-155b-4178-82b8-b88fb816d8f8"
      },
      "execution_count": null,
      "outputs": [
        {
          "output_type": "stream",
          "name": "stdout",
          "text": [
            "126\n",
            "189\n",
            "252\n",
            "315\n",
            "378\n",
            "441\n",
            "504\n",
            "567\n",
            "630\n",
            "693\n",
            "756\n",
            "819\n",
            "882\n",
            "945\n"
          ]
        }
      ]
    },
    {
      "cell_type": "markdown",
      "source": [
        "Q5. WAP to create two lists of 10 random numbers between 10 and 30; Find\n",
        "\n",
        "(i) Common numbers in the two lists\n",
        "\n",
        "(ii) Unique numbers in both the list\n",
        "\n",
        "(iii) Minimum in both the list\n",
        "\n",
        "(iv) Maximum in both the list\n",
        "\n",
        "(v) Sum of both the lists"
      ],
      "metadata": {
        "id": "cC0IYqY8g-1s"
      }
    },
    {
      "cell_type": "code",
      "source": [
        "import random as r\n",
        "L1= r.sample(range(10,31),10)\n",
        "L2= r.sample(range(10,31),10)\n",
        "\n",
        "S1= set(L1)\n",
        "S2=set(L2)\n",
        "\n",
        "print(S1)\n",
        "print(S2)\n",
        "\n",
        "print(\"common numbers are: \", S1.intersection(S2))"
      ],
      "metadata": {
        "colab": {
          "base_uri": "https://localhost:8080/"
        },
        "id": "WbRhe3ZChG_X",
        "outputId": "e600ac2c-9c66-4f24-f39e-0867f0a6a4b9"
      },
      "execution_count": null,
      "outputs": [
        {
          "output_type": "stream",
          "name": "stdout",
          "text": [
            "{11, 12, 15, 18, 19, 21, 22, 25, 28, 30}\n",
            "{10, 11, 17, 18, 19, 21, 22, 27, 29, 30}\n",
            "common numbers are:  {11, 18, 19, 21, 22, 30}\n"
          ]
        }
      ]
    },
    {
      "cell_type": "code",
      "source": [
        "print(\"Unique numbers in both the lists :\", S1.symmetric_difference(S2))"
      ],
      "metadata": {
        "colab": {
          "base_uri": "https://localhost:8080/"
        },
        "id": "sKcRm4R-kXhF",
        "outputId": "599ba88f-3dcb-4052-edbe-48696c6f7d01"
      },
      "execution_count": null,
      "outputs": [
        {
          "output_type": "stream",
          "name": "stdout",
          "text": [
            "Unique numbers in both the lists : {10, 12, 15, 17, 25, 27, 28, 29}\n"
          ]
        }
      ]
    },
    {
      "cell_type": "code",
      "source": [
        "print(\"Minimum in List 1: \", min(S1))\n",
        "print(\"Minimum in List 2: \", min(S2))"
      ],
      "metadata": {
        "colab": {
          "base_uri": "https://localhost:8080/"
        },
        "id": "f0FZT8AzlWzG",
        "outputId": "12ac3590-1eed-469c-d36c-f7e62a07cb41"
      },
      "execution_count": null,
      "outputs": [
        {
          "output_type": "stream",
          "name": "stdout",
          "text": [
            "Minimum in List 1:  11\n",
            "Minimum in List 2:  10\n"
          ]
        }
      ]
    },
    {
      "cell_type": "code",
      "source": [
        "print(\"Maximum in List 1: \", max(S1))\n",
        "print(\"Maximum in List 2: \", max(S2))"
      ],
      "metadata": {
        "colab": {
          "base_uri": "https://localhost:8080/"
        },
        "id": "W7ekDXoGk5XV",
        "outputId": "eecb6af0-3669-4a7e-e31d-fd683025209c"
      },
      "execution_count": null,
      "outputs": [
        {
          "output_type": "stream",
          "name": "stdout",
          "text": [
            "Maximum in List 1:  30\n",
            "Maximum in List 2:  30\n"
          ]
        }
      ]
    },
    {
      "cell_type": "code",
      "source": [
        "print(sum(S1))\n",
        "print(sum(S2))"
      ],
      "metadata": {
        "colab": {
          "base_uri": "https://localhost:8080/"
        },
        "id": "oKLLFFlsl3zL",
        "outputId": "914cad9e-44ba-4595-8b41-caeb5b90d836"
      },
      "execution_count": null,
      "outputs": [
        {
          "output_type": "stream",
          "name": "stdout",
          "text": [
            "201\n",
            "204\n"
          ]
        }
      ]
    },
    {
      "cell_type": "markdown",
      "source": [
        "Q6. WAP to create a list of 100 random numbers between 100 and 900. Count and print the:\n",
        "\n",
        "(i) All odd numbers\n",
        "\n",
        "(ii) All even numbers\n",
        "\n",
        "(iii) All prime numbers"
      ],
      "metadata": {
        "id": "fIO6mJr2mGve"
      }
    },
    {
      "cell_type": "code",
      "source": [
        "import random as r\n",
        "odd=0\n",
        "l=r.sample(range(100,901),100)\n",
        "for i in l:\n",
        "  if(i%2)!=0:\n",
        "    odd+=1\n",
        "print(odd)"
      ],
      "metadata": {
        "colab": {
          "base_uri": "https://localhost:8080/"
        },
        "id": "6TGSFh71mMwW",
        "outputId": "1e2d9d10-48e6-488a-8cf4-23c289af7f82"
      },
      "execution_count": null,
      "outputs": [
        {
          "output_type": "stream",
          "name": "stdout",
          "text": [
            "54\n"
          ]
        }
      ]
    },
    {
      "cell_type": "code",
      "source": [
        "even =0\n",
        "for i in l:\n",
        "  if(i%2)==0:\n",
        "    even+=1\n",
        "print(even)"
      ],
      "metadata": {
        "colab": {
          "base_uri": "https://localhost:8080/"
        },
        "id": "we06JWp_n_8i",
        "outputId": "eafc467a-bbdc-43b3-9c89-d391db0c2c31"
      },
      "execution_count": null,
      "outputs": [
        {
          "output_type": "stream",
          "name": "stdout",
          "text": [
            "46\n"
          ]
        }
      ]
    },
    {
      "cell_type": "code",
      "source": [
        "prime=0\n",
        "flag=True;\n",
        "for i in range(len(l)):\n",
        "  flag=True\n",
        "  for j in range(2,(l[i]//2) + 1):\n",
        "    if(l[i]%j)==0:\n",
        "      flag=False;\n",
        "      break\n",
        "  if flag==True:\n",
        "    prime+=1\n",
        "print(prime)"
      ],
      "metadata": {
        "colab": {
          "base_uri": "https://localhost:8080/"
        },
        "id": "mpISP5gioDAv",
        "outputId": "08708393-a24b-4dfe-e17b-9e258835a3b1"
      },
      "execution_count": null,
      "outputs": [
        {
          "output_type": "stream",
          "name": "stdout",
          "text": [
            "14\n"
          ]
        }
      ]
    },
    {
      "cell_type": "markdown",
      "source": [
        "# Q7. D is a dictionary defined as\n",
        " D={1:\"One\",2:\"Two\",3:\"Three\",4:\"Four\", 5:\"Five\"}.\n",
        "\n",
        " WAP to read all the keys and values from dictionary and write to the file in the given below format.\n",
        "\n",
        "Key1, Value1\n",
        "\n",
        "Key2, Value2\n",
        "\n",
        "Key3, Value3"
      ],
      "metadata": {
        "id": "XpeGLGoroPsq"
      }
    },
    {
      "cell_type": "code",
      "source": [
        "D={1:\"One\",2:\"Two\",3:\"Three\",4:\"Four\", 5:\"Five\"}\n",
        "f=open('write.txt','w')\n",
        "for key in D:\n",
        "  f.write(str(key)+\",\"+D[key]+\"\\n\")\n",
        "f.close()\n",
        "print (\"Writing done. \\nOpen write.txt to view the content\")"
      ],
      "metadata": {
        "colab": {
          "base_uri": "https://localhost:8080/"
        },
        "id": "ZKaMc6fuoZ7w",
        "outputId": "0b8ab695-180b-4f7e-cc61-4fc61a5dbf1f"
      },
      "execution_count": null,
      "outputs": [
        {
          "output_type": "stream",
          "name": "stdout",
          "text": [
            "Writing done. \n",
            "Open write.txt to view the content\n"
          ]
        }
      ]
    },
    {
      "cell_type": "code",
      "source": [
        "f=open('write.txt')\n",
        "for i in f:\n",
        "  print(i.strip())\n",
        "f.close()"
      ],
      "metadata": {
        "colab": {
          "base_uri": "https://localhost:8080/"
        },
        "id": "JdfikrbyseUp",
        "outputId": "a1a5e78b-cd79-4242-edc7-75c23f499769"
      },
      "execution_count": null,
      "outputs": [
        {
          "output_type": "stream",
          "name": "stdout",
          "text": [
            "1,One\n",
            "2,Two\n",
            "3,Three\n",
            "4,Four\n",
            "5,Five\n"
          ]
        }
      ]
    },
    {
      "cell_type": "markdown",
      "source": [
        "Q8. L is a list defined as L={\"One\",\"Two\",\"Three\",\"Four\",\"Five\"}.\n",
        "WAP to count the length of each element from a list and write to the file in the given below format:\n",
        "\n",
        "One, 3\n",
        "\n",
        "Two, 3\n",
        "\n",
        "Four, 4"
      ],
      "metadata": {
        "id": "MrQmBMSis7qH"
      }
    },
    {
      "cell_type": "code",
      "source": [
        "L=[\"One\",\"Two\",\"Three\",\"Four\",\"Five\"]\n",
        "f=open('write2.txt','w')\n",
        "\n",
        "for i in L:\n",
        "  f.write(i+\",\"+str(len(i))+\"\\n\")\n",
        "f.close()\n",
        "print (\"Writing done. \\nOpen write2.txt to view the content\")"
      ],
      "metadata": {
        "colab": {
          "base_uri": "https://localhost:8080/"
        },
        "id": "C--ipIUnv95v",
        "outputId": "e77f8d0e-fd76-4f3c-f05c-dfe9f48bc449"
      },
      "execution_count": null,
      "outputs": [
        {
          "output_type": "stream",
          "name": "stdout",
          "text": [
            "Writing done. \n",
            "Open write2.txt to view the content\n"
          ]
        }
      ]
    },
    {
      "cell_type": "code",
      "source": [
        "f=open('write2.txt')\n",
        "for i in f:\n",
        "  print(i.strip())\n",
        "f.close()"
      ],
      "metadata": {
        "colab": {
          "base_uri": "https://localhost:8080/"
        },
        "id": "U9aBSN1KxIis",
        "outputId": "511c6fae-6469-4e84-9779-b7956f47d21d"
      },
      "execution_count": null,
      "outputs": [
        {
          "output_type": "stream",
          "name": "stdout",
          "text": [
            "One,3\n",
            "Two,3\n",
            "Three,5\n",
            "Four,4\n",
            "Five,4\n"
          ]
        }
      ]
    },
    {
      "cell_type": "markdown",
      "source": [
        "Q9. Write to the file 100 random strings whose length between 10 and 15.\n"
      ],
      "metadata": {
        "id": "ayEqrWj3xXlN"
      }
    },
    {
      "cell_type": "code",
      "source": [
        "import random as r\n",
        "import string as s\n",
        "f=open('write3.txt','w')\n",
        "for i in range(100):\n",
        "  n=r.randint(10,15)\n",
        "  x= r.sample(s.ascii_letters,n)\n",
        "  x1=\"\".join(x)\n",
        "  f.write(x1+\"\\n\")\n",
        "\n",
        "f.close()\n",
        "print (\"Writing done. \\nOpen write3.txt to view the content\")\n"
      ],
      "metadata": {
        "colab": {
          "base_uri": "https://localhost:8080/"
        },
        "id": "XT-obp_ExhTB",
        "outputId": "7fd7445a-d336-4120-fca7-22348da56cd8"
      },
      "execution_count": null,
      "outputs": [
        {
          "output_type": "stream",
          "name": "stdout",
          "text": [
            "Writing done. \n",
            "Open write3.txt to view the content\n"
          ]
        }
      ]
    },
    {
      "cell_type": "code",
      "source": [
        "f=open('write3.txt')\n",
        "for i in f:\n",
        "  print(i.strip())\n",
        "f.close()"
      ],
      "metadata": {
        "colab": {
          "base_uri": "https://localhost:8080/"
        },
        "id": "KoNN6dj3zZJP",
        "outputId": "362892e2-f218-4416-a627-be1b9d442ca3"
      },
      "execution_count": null,
      "outputs": [
        {
          "output_type": "stream",
          "name": "stdout",
          "text": [
            "BIGeywQKJlCquVt\n",
            "dLqgXMHBnbjGJN\n",
            "EOeYrHIuTwo\n",
            "DgFUqmuTLNPZa\n",
            "ZDOCMpUklHmK\n",
            "tCxNwBDPQvaMW\n",
            "aUEmsJtgqXnpLz\n",
            "JSPyeKhpMqxbWw\n",
            "SQoOxUTuYAfEKlm\n",
            "jnybVdDxWemGYB\n",
            "qgzJpFEZSjXDTH\n",
            "dSzgXWqvUc\n",
            "FWSxplsMARe\n",
            "ZiqoCkSfBhGL\n",
            "AvquXzxjLmfdo\n",
            "ZtfOjVFnsv\n",
            "NFxRJXwhQeWj\n",
            "WmgnyvSXPd\n",
            "UqJXgcExrO\n",
            "guWSjaKcps\n",
            "MYiuBDEsrHeNyhg\n",
            "NdVtPymOxbQo\n",
            "NPoKQLlzwVukS\n",
            "XOLzerfsgE\n",
            "frXyLsJQSvzwlex\n",
            "WpLnoAyCETOBVRz\n",
            "NzndEaijwQXg\n",
            "fBoDjkryMLTdvet\n",
            "ABCLuMtFdyHKW\n",
            "TJgcUubIDprLR\n",
            "rjGVZycQRkISd\n",
            "CIiptUjDduneV\n",
            "VJdnXwDNjByOlK\n",
            "yeqkPpHsdDFcO\n",
            "xISEzocXWy\n",
            "KBxqEWvHAOmCJj\n",
            "PCRdbVljWE\n",
            "IHXbGxWSYJ\n",
            "hmgKpILVsnA\n",
            "cdOgMbyPTYUXx\n",
            "FEKMNQlqbDYRoi\n",
            "uBOZvWpGUhL\n",
            "wrBpGlodICPKaT\n",
            "iynALQwYmC\n",
            "twaGxHSArRQPhK\n",
            "drMzYXNoEyLj\n",
            "uxyFHpYQbhJUoqL\n",
            "sdBCrRSPicFQfl\n",
            "mxOPENRtdA\n",
            "WOUKfbrFMY\n",
            "ZxSNePqKdBks\n",
            "IeLxWMfDQqkyg\n",
            "EFCHWDXZiKSlPw\n",
            "yfQLjBKUncEqCd\n",
            "BKctNMjLnPCAz\n",
            "HPmcuhaVpCG\n",
            "jlNLpIYqhz\n",
            "jEeikDVtFxcyf\n",
            "RtApvPoFbLjgxf\n",
            "GaPJKtFvND\n",
            "gYRLWyTGck\n",
            "TgqsISxkBd\n",
            "nQvoJzpSgVyZDL\n",
            "cKMHjpZiJWh\n",
            "gDEPqLbjCvRJtiu\n",
            "QXLhKupGvnzVq\n",
            "mYMQPHylaA\n",
            "ZdlaIRbhOgcpGSj\n",
            "snUopuQIdFaj\n",
            "iXYfCaeBwsU\n",
            "UvJtpuHCDy\n",
            "fRlOGmtEeqQo\n",
            "wyDatGrxFbB\n",
            "gNhTezGAyHtE\n",
            "fQZWCJciRBPVpnY\n",
            "JdokBFphQGvDwR\n",
            "wmJkEsjoQhLUM\n",
            "EuAvoaCjWPUfDQ\n",
            "ziWQvIgonCM\n",
            "edUOisJcIY\n",
            "xetyJNBgQCXL\n",
            "tjhgLudnBbX\n",
            "jKWgadAcDmZwE\n",
            "INgFotpYhxsq\n",
            "DyXdenolHCQ\n",
            "RYHSounUvX\n",
            "gKIGaxFZLiCn\n",
            "jByqQdcmRZCKPk\n",
            "cOgXUShitTeYQ\n",
            "VSYhCnuyALKvlsz\n",
            "XyBelOALZU\n",
            "OTiQLngJuNBAxy\n",
            "nwoWPlCbsDSqmi\n",
            "LrFwjJpkxsC\n",
            "wtIFajBhHiuc\n",
            "ZerMpwyIXHjQqtO\n",
            "PZipnNkCSL\n",
            "nrfdUGJsel\n",
            "LrzXtiHueGDEaSy\n",
            "NZjYKerFpaUPSbR\n"
          ]
        }
      ]
    },
    {
      "cell_type": "markdown",
      "source": [
        "Q10. Write to the file all prime numbers between 600 and 800.\n"
      ],
      "metadata": {
        "id": "kEnAegxIzp7f"
      }
    },
    {
      "cell_type": "code",
      "source": [
        "\n",
        "f=open('write4.txt','w')\n",
        "\n",
        "for i in range(600,801):\n",
        "  if(IsPrime(i)==1):\n",
        "    f.write(str(i)+\"\\n\")\n",
        "f.close()\n",
        "print (\"Writing done. \\nOpen write4.txt to view the content\")\n"
      ],
      "metadata": {
        "colab": {
          "base_uri": "https://localhost:8080/"
        },
        "id": "KGLnJqHRzpPq",
        "outputId": "31547f20-f8a2-4b1b-ab0b-ffebfb582148"
      },
      "execution_count": null,
      "outputs": [
        {
          "output_type": "stream",
          "name": "stdout",
          "text": [
            "Writing done. \n",
            "Open write4.txt to view the content\n"
          ]
        }
      ]
    },
    {
      "cell_type": "code",
      "source": [
        "f=open('write4.txt')\n",
        "for i in f:\n",
        "  print(i.strip())\n",
        "f.close()"
      ],
      "metadata": {
        "colab": {
          "base_uri": "https://localhost:8080/"
        },
        "id": "VNsNIUqT0jhh",
        "outputId": "ddf69001-75c6-4e7f-868f-db5673e5f041"
      },
      "execution_count": null,
      "outputs": [
        {
          "output_type": "stream",
          "name": "stdout",
          "text": [
            "601\n",
            "607\n",
            "613\n",
            "617\n",
            "619\n",
            "631\n",
            "641\n",
            "643\n",
            "647\n",
            "653\n",
            "659\n",
            "661\n",
            "673\n",
            "677\n",
            "683\n",
            "691\n",
            "701\n",
            "709\n",
            "719\n",
            "727\n",
            "733\n",
            "739\n",
            "743\n",
            "751\n",
            "757\n",
            "761\n",
            "769\n",
            "773\n",
            "787\n",
            "797\n"
          ]
        }
      ]
    },
    {
      "cell_type": "markdown",
      "source": [
        "Q11. WAP to calculate the time taken by a program.\n"
      ],
      "metadata": {
        "id": "75eysFwm0v_U"
      }
    },
    {
      "cell_type": "code",
      "source": [
        "import time as t\n",
        "\n",
        "# store starting time\n",
        "begin = t.time()\n",
        "\n",
        "# program body starts\n",
        "\n",
        "for i in range(5):\n",
        "    print(\"Hello\")\n",
        "# program body ends\n",
        "\n",
        "t.sleep(1)\n",
        "# store end time\n",
        "end = t.time()\n",
        "\n",
        "print(\"Time taken by the program (in seconds):\", end-begin)"
      ],
      "metadata": {
        "id": "yGd2GI_20xGh",
        "colab": {
          "base_uri": "https://localhost:8080/"
        },
        "outputId": "67e05ed6-5f01-4270-ac1a-70aff83cad87"
      },
      "execution_count": 127,
      "outputs": [
        {
          "output_type": "stream",
          "name": "stdout",
          "text": [
            "Hello\n",
            "Hello\n",
            "Hello\n",
            "Hello\n",
            "Hello\n",
            "Time taken by the program (in seconds): 1.0038120746612549\n"
          ]
        }
      ]
    },
    {
      "cell_type": "markdown",
      "source": [
        "Q12. WAP to sort following number of elements in a list, calculate time taken and plot the graph.\n",
        "Number of elements in list Time Taken\n",
        "\n",
        "5k T1\n",
        "\n",
        "10k T2\n",
        "\n",
        "15k T3\n",
        "\n",
        "20k T4\n",
        "\n",
        "25k T5"
      ],
      "metadata": {
        "id": "Ylbtz2av6-Fs"
      }
    },
    {
      "cell_type": "code",
      "source": [
        "import string as s\n",
        "import random as r\n",
        "import time as t\n",
        "import matplotlib.pyplot as plt\n",
        "x=[]\n",
        "y=[]\n",
        "for i in range(5000,25001,5000):\n",
        "  final=[]\n",
        "  for j in range(i):\n",
        "    L=\"\".join(r.sample(s.digits,5))\n",
        "    final.append(int(L))\n",
        "  start=t.perf_counter()\n",
        "  final.sort()\n",
        "  end=t.perf_counter()\n",
        "  x.append(i)\n",
        "  y.append(end-start)\n",
        "plt.plot(x,y)\n",
        "plt.xlabel('No of numbers(0-99999)')\n",
        "plt.ylabel('Time taken to sort(in seconds)')"
      ],
      "metadata": {
        "colab": {
          "base_uri": "https://localhost:8080/",
          "height": 469
        },
        "id": "5IteiwKc7P83",
        "outputId": "b236e1d8-e80b-4a39-b6dd-dee73d167584"
      },
      "execution_count": 128,
      "outputs": [
        {
          "output_type": "execute_result",
          "data": {
            "text/plain": [
              "Text(0, 0.5, 'Time taken to sort(in seconds)')"
            ]
          },
          "metadata": {},
          "execution_count": 128
        },
        {
          "output_type": "display_data",
          "data": {
            "text/plain": [
              "<Figure size 640x480 with 1 Axes>"
            ],
            "image/png": "[encoded data removed]"
          },
          "metadata": {}
        }
      ]
    },
    {
      "cell_type": "markdown",
      "source": [
        "Q13. WAP to create a dictionary of student marks in five subjects and you have to find the student\n",
        " having maximum and minimum average marks."
      ],
      "metadata": {
        "id": "hKUvLgqjBKty"
      }
    },
    {
      "cell_type": "code",
      "source": [
        "import string as s\n",
        "import random as r\n",
        "D={}\n",
        "for i in range(10):\n",
        "  L=[]\n",
        "  for j in range(5):\n",
        "    L.append(r.randint(0,100))\n",
        "  D[i+1]=L\n",
        "print(D)\n",
        "avg=[]\n",
        "sum=0\n",
        "del sum\n",
        "for i in range(10):\n",
        "  avg.append(sum(D[i+1])/5)\n",
        "mini=0\n",
        "maxi=0\n",
        "print(avg)\n",
        "for i in range(1,10):\n",
        "  if(avg[mini]>avg[i]):\n",
        "    mini=i\n",
        "  if(avg[maxi]<avg[i]):\n",
        "    maxi=i\n",
        "print(\"maximum average marks are of\", maxi+1,\"th student\")\n",
        "print(\"minimum average marks are of\", mini+1,\"th student\")"
      ],
      "metadata": {
        "colab": {
          "base_uri": "https://localhost:8080/"
        },
        "id": "a1FQ7z1dBVCg",
        "outputId": "3dc3785a-a3d7-46c2-cb22-cad5f0b6c9f3"
      },
      "execution_count": 129,
      "outputs": [
        {
          "output_type": "stream",
          "name": "stdout",
          "text": [
            "{1: [8, 36, 67, 83, 40], 2: [23, 56, 19, 24, 36], 3: [41, 89, 49, 99, 44], 4: [84, 52, 0, 43, 60], 5: [11, 3, 29, 25, 92], 6: [70, 43, 47, 52, 3], 7: [53, 81, 97, 15, 79], 8: [100, 87, 77, 94, 73], 9: [34, 35, 71, 14, 68], 10: [20, 74, 5, 20, 84]}\n",
            "[46.8, 31.6, 64.4, 47.8, 32.0, 43.0, 65.0, 86.2, 44.4, 40.6]\n",
            "maximum average marks are of 8 th student\n",
            "minimum average marks are of 2 th student\n"
          ]
        }
      ]
    },
    {
      "cell_type": "markdown",
      "source": [],
      "metadata": {
        "id": "chZb8sKK69-2"
      }
    }
  ]
}